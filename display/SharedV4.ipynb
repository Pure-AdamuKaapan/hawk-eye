{
 "cells": [
  {
   "cell_type": "code",
   "execution_count": 260,
   "id": "2aa190eb-fd93-4cf0-8969-7e86ecae4cd9",
   "metadata": {},
   "outputs": [],
   "source": [
    "import json\n",
    "import time\n",
    "import plotly.express as px  \n",
    "# Opening JSON file\n",
    "f = open('events.json')\n",
    "  \n",
    "# Returns JSON object as a dictionary\n",
    "data = json.load(f)"
   ]
  },
  {
   "cell_type": "code",
   "execution_count": 261,
   "id": "854d8153-b3b3-41e6-a83e-f4a25672d6b2",
   "metadata": {},
   "outputs": [
    {
     "name": "stdout",
     "output_type": "stream",
     "text": [
      "{'eventName': 'PX Down', 'start': 1662386696, 'finish': 1662386697, 'startUTC': '1970-01-01 00:00:00 +0000 UTC', 'finishUTC': '2022-09-05 14:04:57 +0000 UTC', 'eventSeverity': 'error', 'objects': [{'objectFullName': 'ip-10-13-112-170.pwx.dev.purestorage.com', 'objectType': 'node', 'objectName': 'ip-10-13-112-170.pwx.dev.purestorage.com'}, {'objectFullName': 'Portworx', 'objectType': 'Portworx', 'objectName': 'Portworx'}]}\n",
      "{'eventName': 'PX Down', 'start': 1662389588, 'finish': 1662389801, 'startUTC': '2022-09-05 14:53:08 +0000 UTC', 'finishUTC': '2022-09-05 14:56:41 +0000 UTC', 'eventSeverity': 'error', 'objects': [{'objectFullName': 'ip-10-13-112-170.pwx.dev.purestorage.com', 'objectType': 'node', 'objectName': 'ip-10-13-112-170.pwx.dev.purestorage.com'}, {'objectFullName': 'Portworx', 'objectType': 'Portworx', 'objectName': 'Portworx'}]}\n",
      "{'eventName': 'PX Down', 'start': 1662390578, 'finish': 1662390685, 'startUTC': '2022-09-05 15:09:38 +0000 UTC', 'finishUTC': '2022-09-05 15:11:25 +0000 UTC', 'eventSeverity': 'error', 'objects': [{'objectFullName': 'ip-10-13-112-170.pwx.dev.purestorage.com', 'objectType': 'node', 'objectName': 'ip-10-13-112-170.pwx.dev.purestorage.com'}, {'objectFullName': 'Portworx', 'objectType': 'Portworx', 'objectName': 'Portworx'}]}\n",
      "{'eventName': 'Mount Setup', 'start': 1662390687, 'finish': 1662390688, 'startUTC': '1970-01-01 00:00:00 +0000 UTC', 'finishUTC': '2022-09-05 15:11:28 +0000 UTC', 'eventSeverity': 'error', 'objects': [{'objectFullName': 'ip-10-13-112-170.pwx.dev.purestorage.com', 'objectType': 'node', 'objectName': 'ip-10-13-112-170.pwx.dev.purestorage.com'}, {'objectFullName': '0454503f-4399-46fc-ac26-7ada4ecaaa70', 'objectType': 'pod', 'objectName': '0454503f...'}, {'objectFullName': 'pvc-0d81053d-6952-404d-b213-2adea82bc609', 'objectType': 'volume', 'objectName': 'pvc-0d81053d...'}]}\n",
      "{'eventName': 'Mount Setup', 'start': 1662390691, 'finish': 1662390692, 'startUTC': '1970-01-01 00:00:00 +0000 UTC', 'finishUTC': '2022-09-05 15:11:32 +0000 UTC', 'eventSeverity': 'error', 'objects': [{'objectFullName': 'ip-10-13-112-170.pwx.dev.purestorage.com', 'objectType': 'node', 'objectName': 'ip-10-13-112-170.pwx.dev.purestorage.com'}, {'objectFullName': '0454503f-4399-46fc-ac26-7ada4ecaaa70', 'objectType': 'pod', 'objectName': '0454503f...'}, {'objectFullName': 'pvc-0d81053d-6952-404d-b213-2adea82bc609', 'objectType': 'volume', 'objectName': 'pvc-0d81053d...'}]}\n",
      "{'eventName': 'Mount Setup', 'start': 1662390692, 'finish': 1662390693, 'startUTC': '1970-01-01 00:00:00 +0000 UTC', 'finishUTC': '2022-09-05 15:11:33 +0000 UTC', 'eventSeverity': 'error', 'objects': [{'objectFullName': 'ip-10-13-112-170.pwx.dev.purestorage.com', 'objectType': 'node', 'objectName': 'ip-10-13-112-170.pwx.dev.purestorage.com'}, {'objectFullName': '0454503f-4399-46fc-ac26-7ada4ecaaa70', 'objectType': 'pod', 'objectName': '0454503f...'}, {'objectFullName': 'pvc-0d81053d-6952-404d-b213-2adea82bc609', 'objectType': 'volume', 'objectName': 'pvc-0d81053d...'}]}\n",
      "{'eventName': 'Mount Setup', 'start': 1662390700, 'finish': 1662390701, 'startUTC': '2022-09-05 15:11:40 +0000 UTC', 'finishUTC': '2022-09-05 15:11:40 +0000 UTC', 'eventSeverity': 'error', 'objects': [{'objectFullName': 'ip-10-13-112-170.pwx.dev.purestorage.com', 'objectType': 'node', 'objectName': 'ip-10-13-112-170.pwx.dev.purestorage.com'}, {'objectFullName': '0454503f-4399-46fc-ac26-7ada4ecaaa70', 'objectType': 'pod', 'objectName': '0454503f...'}, {'objectFullName': 'pvc-0d81053d-6952-404d-b213-2adea82bc609', 'objectType': 'volume', 'objectName': 'pvc-0d81053d...'}]}\n",
      "{'eventName': 'Mount Setup', 'start': 1662390703, 'finish': 1662390704, 'startUTC': '2022-09-05 15:11:43 +0000 UTC', 'finishUTC': '2022-09-05 15:11:43 +0000 UTC', 'eventSeverity': 'error', 'objects': [{'objectFullName': 'ip-10-13-112-170.pwx.dev.purestorage.com', 'objectType': 'node', 'objectName': 'ip-10-13-112-170.pwx.dev.purestorage.com'}, {'objectFullName': '0454503f-4399-46fc-ac26-7ada4ecaaa70', 'objectType': 'pod', 'objectName': '0454503f...'}, {'objectFullName': 'pvc-0d81053d-6952-404d-b213-2adea82bc609', 'objectType': 'volume', 'objectName': 'pvc-0d81053d...'}]}\n",
      "{'eventName': 'Mount Setup', 'start': 1662390711, 'finish': 1662390712, 'startUTC': '2022-09-05 15:11:51 +0000 UTC', 'finishUTC': '2022-09-05 15:11:51 +0000 UTC', 'eventSeverity': 'error', 'objects': [{'objectFullName': 'ip-10-13-112-170.pwx.dev.purestorage.com', 'objectType': 'node', 'objectName': 'ip-10-13-112-170.pwx.dev.purestorage.com'}, {'objectFullName': '0454503f-4399-46fc-ac26-7ada4ecaaa70', 'objectType': 'pod', 'objectName': '0454503f...'}, {'objectFullName': 'pvc-0d81053d-6952-404d-b213-2adea82bc609', 'objectType': 'volume', 'objectName': 'pvc-0d81053d...'}]}\n",
      "{'eventName': 'Mount Setup', 'start': 1662390713, 'finish': 1662390714, 'startUTC': '2022-09-05 15:11:53 +0000 UTC', 'finishUTC': '2022-09-05 15:11:53 +0000 UTC', 'eventSeverity': 'error', 'objects': [{'objectFullName': 'ip-10-13-112-170.pwx.dev.purestorage.com', 'objectType': 'node', 'objectName': 'ip-10-13-112-170.pwx.dev.purestorage.com'}, {'objectFullName': '0454503f-4399-46fc-ac26-7ada4ecaaa70', 'objectType': 'pod', 'objectName': '0454503f...'}, {'objectFullName': 'pvc-0d81053d-6952-404d-b213-2adea82bc609', 'objectType': 'volume', 'objectName': 'pvc-0d81053d...'}]}\n",
      "{'eventName': 'Mount Setup', 'start': 1662390714, 'finish': 1662390715, 'startUTC': '2022-09-05 15:11:54 +0000 UTC', 'finishUTC': '2022-09-05 15:11:54 +0000 UTC', 'eventSeverity': 'error', 'objects': [{'objectFullName': 'ip-10-13-112-170.pwx.dev.purestorage.com', 'objectType': 'node', 'objectName': 'ip-10-13-112-170.pwx.dev.purestorage.com'}, {'objectFullName': '0454503f-4399-46fc-ac26-7ada4ecaaa70', 'objectType': 'pod', 'objectName': '0454503f...'}, {'objectFullName': 'pvc-0d81053d-6952-404d-b213-2adea82bc609', 'objectType': 'volume', 'objectName': 'pvc-0d81053d...'}]}\n",
      "{'eventName': 'Mount Setup', 'start': 1662390716, 'finish': 1662390717, 'startUTC': '2022-09-05 15:11:56 +0000 UTC', 'finishUTC': '2022-09-05 15:11:56 +0000 UTC', 'eventSeverity': 'error', 'objects': [{'objectFullName': 'ip-10-13-112-170.pwx.dev.purestorage.com', 'objectType': 'node', 'objectName': 'ip-10-13-112-170.pwx.dev.purestorage.com'}, {'objectFullName': '0454503f-4399-46fc-ac26-7ada4ecaaa70', 'objectType': 'pod', 'objectName': '0454503f...'}, {'objectFullName': 'pvc-0d81053d-6952-404d-b213-2adea82bc609', 'objectType': 'volume', 'objectName': 'pvc-0d81053d...'}]}\n",
      "{'eventName': 'Mount Setup', 'start': 1662390719, 'finish': 1662390720, 'startUTC': '2022-09-05 15:11:59 +0000 UTC', 'finishUTC': '2022-09-05 15:11:59 +0000 UTC', 'eventSeverity': 'error', 'objects': [{'objectFullName': 'ip-10-13-112-170.pwx.dev.purestorage.com', 'objectType': 'node', 'objectName': 'ip-10-13-112-170.pwx.dev.purestorage.com'}, {'objectFullName': '0454503f-4399-46fc-ac26-7ada4ecaaa70', 'objectType': 'pod', 'objectName': '0454503f...'}, {'objectFullName': 'pvc-0d81053d-6952-404d-b213-2adea82bc609', 'objectType': 'volume', 'objectName': 'pvc-0d81053d...'}]}\n",
      "{'eventName': 'Mount Setup', 'start': 1662390689, 'finish': 1662390690, 'startUTC': '1970-01-01 00:00:00 +0000 UTC', 'finishUTC': '2022-09-05 15:11:30 +0000 UTC', 'eventSeverity': 'error', 'objects': [{'objectFullName': 'ip-10-13-112-170.pwx.dev.purestorage.com', 'objectType': 'node', 'objectName': 'ip-10-13-112-170.pwx.dev.purestorage.com'}, {'objectFullName': '0454503f-4399-46fc-ac26-7ada4ecaaa70', 'objectType': 'pod', 'objectName': '0454503f...'}, {'objectFullName': 'pvc-9c1df276-bdc1-4044-b78c-a2aaff3fd03a', 'objectType': 'volume', 'objectName': 'pvc-9c1df276...'}]}\n",
      "{'eventName': 'Mount Setup', 'start': 1662390689, 'finish': 1662390690, 'startUTC': '1970-01-01 00:00:00 +0000 UTC', 'finishUTC': '2022-09-05 15:11:30 +0000 UTC', 'eventSeverity': 'error', 'objects': [{'objectFullName': 'ip-10-13-112-170.pwx.dev.purestorage.com', 'objectType': 'node', 'objectName': 'ip-10-13-112-170.pwx.dev.purestorage.com'}, {'objectFullName': '0454503f-4399-46fc-ac26-7ada4ecaaa70', 'objectType': 'pod', 'objectName': '0454503f...'}, {'objectFullName': 'pvc-9c1df276-bdc1-4044-b78c-a2aaff3fd03a', 'objectType': 'volume', 'objectName': 'pvc-9c1df276...'}]}\n",
      "{'eventName': 'Mount Setup', 'start': 1662390689, 'finish': 1662390690, 'startUTC': '1970-01-01 00:00:00 +0000 UTC', 'finishUTC': '2022-09-05 15:11:30 +0000 UTC', 'eventSeverity': 'error', 'objects': [{'objectFullName': 'ip-10-13-112-170.pwx.dev.purestorage.com', 'objectType': 'node', 'objectName': 'ip-10-13-112-170.pwx.dev.purestorage.com'}, {'objectFullName': '0454503f-4399-46fc-ac26-7ada4ecaaa70', 'objectType': 'pod', 'objectName': '0454503f...'}, {'objectFullName': 'pvc-9c1df276-bdc1-4044-b78c-a2aaff3fd03a', 'objectType': 'volume', 'objectName': 'pvc-9c1df276...'}]}\n",
      "{'eventName': 'Mount Setup', 'start': 1662390690, 'finish': 1662390691, 'startUTC': '1970-01-01 00:00:00 +0000 UTC', 'finishUTC': '2022-09-05 15:11:31 +0000 UTC', 'eventSeverity': 'error', 'objects': [{'objectFullName': 'ip-10-13-112-170.pwx.dev.purestorage.com', 'objectType': 'node', 'objectName': 'ip-10-13-112-170.pwx.dev.purestorage.com'}, {'objectFullName': '0454503f-4399-46fc-ac26-7ada4ecaaa70', 'objectType': 'pod', 'objectName': '0454503f...'}, {'objectFullName': 'pvc-9c1df276-bdc1-4044-b78c-a2aaff3fd03a', 'objectType': 'volume', 'objectName': 'pvc-9c1df276...'}]}\n",
      "{'eventName': 'Mount Setup', 'start': 1662390690, 'finish': 1662390691, 'startUTC': '1970-01-01 00:00:00 +0000 UTC', 'finishUTC': '2022-09-05 15:11:31 +0000 UTC', 'eventSeverity': 'error', 'objects': [{'objectFullName': 'ip-10-13-112-170.pwx.dev.purestorage.com', 'objectType': 'node', 'objectName': 'ip-10-13-112-170.pwx.dev.purestorage.com'}, {'objectFullName': '0454503f-4399-46fc-ac26-7ada4ecaaa70', 'objectType': 'pod', 'objectName': '0454503f...'}, {'objectFullName': 'pvc-9c1df276-bdc1-4044-b78c-a2aaff3fd03a', 'objectType': 'volume', 'objectName': 'pvc-9c1df276...'}]}\n",
      "{'eventName': 'Mount Setup', 'start': 1662390690, 'finish': 1662390691, 'startUTC': '1970-01-01 00:00:00 +0000 UTC', 'finishUTC': '2022-09-05 15:11:31 +0000 UTC', 'eventSeverity': 'error', 'objects': [{'objectFullName': 'ip-10-13-112-170.pwx.dev.purestorage.com', 'objectType': 'node', 'objectName': 'ip-10-13-112-170.pwx.dev.purestorage.com'}, {'objectFullName': '0454503f-4399-46fc-ac26-7ada4ecaaa70', 'objectType': 'pod', 'objectName': '0454503f...'}, {'objectFullName': 'pvc-9c1df276-bdc1-4044-b78c-a2aaff3fd03a', 'objectType': 'volume', 'objectName': 'pvc-9c1df276...'}]}\n",
      "{'eventName': 'Mount Setup', 'start': 1662390691, 'finish': 1662390692, 'startUTC': '1970-01-01 00:00:00 +0000 UTC', 'finishUTC': '2022-09-05 15:11:32 +0000 UTC', 'eventSeverity': 'error', 'objects': [{'objectFullName': 'ip-10-13-112-170.pwx.dev.purestorage.com', 'objectType': 'node', 'objectName': 'ip-10-13-112-170.pwx.dev.purestorage.com'}, {'objectFullName': '0454503f-4399-46fc-ac26-7ada4ecaaa70', 'objectType': 'pod', 'objectName': '0454503f...'}, {'objectFullName': 'pvc-9c1df276-bdc1-4044-b78c-a2aaff3fd03a', 'objectType': 'volume', 'objectName': 'pvc-9c1df276...'}]}\n",
      "{'eventName': 'Mount Setup', 'start': 1662390737, 'finish': 1662390738, 'startUTC': '2022-09-05 15:12:17 +0000 UTC', 'finishUTC': '1970-01-01 00:00:00 +0000 UTC', 'eventSeverity': 'error', 'objects': [{'objectFullName': 'ip-10-13-112-170.pwx.dev.purestorage.com', 'objectType': 'node', 'objectName': 'ip-10-13-112-170.pwx.dev.purestorage.com'}, {'objectFullName': '0454503f-4399-46fc-ac26-7ada4ecaaa70', 'objectType': 'pod', 'objectName': '0454503f...'}, {'objectFullName': 'pvc-9c1df276-bdc1-4044-b78c-a2aaff3fd03a', 'objectType': 'volume', 'objectName': 'pvc-9c1df276...'}]}\n"
     ]
    }
   ],
   "source": [
    "# Iterating through the json list\n",
    "for event in data:\n",
    "    print(event)\n",
    "  \n",
    "# Closing file\n",
    "#f.close()"
   ]
  },
  {
   "cell_type": "code",
   "execution_count": null,
   "id": "f0003ec2-f066-4284-91cc-cd199b176711",
   "metadata": {},
   "outputs": [],
   "source": []
  },
  {
   "cell_type": "code",
   "execution_count": 262,
   "id": "31a6fdeb-7a33-4f30-978d-12379c2ce746",
   "metadata": {},
   "outputs": [],
   "source": [
    " import datetime\n",
    "class Events:\n",
    "    def __init__(self, node, start, finish, eventName, eventSeverity, eventObject):\n",
    "        self.node = node\n",
    "        self.start = start\n",
    "        self.finish = finish\n",
    "        self.eventName=eventName\n",
    "        self.eventSeverity=eventSeverity\n",
    "        self.eventObject=eventObject\n",
    "    def __init__(self):\n",
    "        self.node = \"\"\n",
    "        self.start = \"\"\n",
    "        self.finish = \"\"\n",
    "        self.eventName= \"\"\n",
    "        self.eventSeverity= \"\"\n",
    "        self.eventObject= \"\"\n",
    "    def to_dict(self):\n",
    "        my_time = time.strftime('%Y-%m-%d %H:%M:%S', time.localtime(1347517370))\n",
    "        datetime.datetime.fromtimestamp(1347517370).strftime('%Y-%m-%d %H:%M:%S')\n",
    "        \n",
    "        start = datetime.datetime.fromtimestamp(int(self.start)).strftime('%Y-%m-%d %H:%M:%S')\n",
    "        end = datetime.datetime.fromtimestamp(int(self.finish)).strftime('%Y-%m-%d %H:%M:%S')\n",
    "        return {\n",
    "            'node': self.node,\n",
    "            'start': start ,\n",
    "            'finish': end,\n",
    "            'eventName': self.eventName,\n",
    "            'eventSeverity': self.eventSeverity,\n",
    "            'Event Source': self.eventObject\n",
    "        }"
   ]
  },
  {
   "cell_type": "code",
   "execution_count": 263,
   "id": "72cb6c4d-c60f-4fd5-b8a2-83076372ff40",
   "metadata": {},
   "outputs": [
    {
     "name": "stdout",
     "output_type": "stream",
     "text": [
      "[{'node': 'ip-10-13-112-170.pwx.dev.purestorage.com', 'start': '2022-09-05 07:04:56', 'finish': '2022-09-05 07:04:57', 'eventName': 'PX Down', 'eventSeverity': 'error', 'Event Source': ' Portworx:Portworx'}, {'node': 'ip-10-13-112-170.pwx.dev.purestorage.com', 'start': '2022-09-05 07:53:08', 'finish': '2022-09-05 07:56:41', 'eventName': 'PX Down', 'eventSeverity': 'error', 'Event Source': ' Portworx:Portworx'}, {'node': 'ip-10-13-112-170.pwx.dev.purestorage.com', 'start': '2022-09-05 08:09:38', 'finish': '2022-09-05 08:11:25', 'eventName': 'PX Down', 'eventSeverity': 'error', 'Event Source': ' Portworx:Portworx'}, {'node': 'ip-10-13-112-170.pwx.dev.purestorage.com', 'start': '2022-09-05 08:11:27', 'finish': '2022-09-05 08:11:28', 'eventName': 'Mount Setup', 'eventSeverity': 'error', 'Event Source': ' pod:0454503f... volume:pvc-0d81053d...'}, {'node': 'ip-10-13-112-170.pwx.dev.purestorage.com', 'start': '2022-09-05 08:11:31', 'finish': '2022-09-05 08:11:32', 'eventName': 'Mount Setup', 'eventSeverity': 'error', 'Event Source': ' pod:0454503f... volume:pvc-0d81053d...'}, {'node': 'ip-10-13-112-170.pwx.dev.purestorage.com', 'start': '2022-09-05 08:11:32', 'finish': '2022-09-05 08:11:33', 'eventName': 'Mount Setup', 'eventSeverity': 'error', 'Event Source': ' pod:0454503f... volume:pvc-0d81053d...'}, {'node': 'ip-10-13-112-170.pwx.dev.purestorage.com', 'start': '2022-09-05 08:11:40', 'finish': '2022-09-05 08:11:41', 'eventName': 'Mount Setup', 'eventSeverity': 'error', 'Event Source': ' pod:0454503f... volume:pvc-0d81053d...'}, {'node': 'ip-10-13-112-170.pwx.dev.purestorage.com', 'start': '2022-09-05 08:11:43', 'finish': '2022-09-05 08:11:44', 'eventName': 'Mount Setup', 'eventSeverity': 'error', 'Event Source': ' pod:0454503f... volume:pvc-0d81053d...'}, {'node': 'ip-10-13-112-170.pwx.dev.purestorage.com', 'start': '2022-09-05 08:11:51', 'finish': '2022-09-05 08:11:52', 'eventName': 'Mount Setup', 'eventSeverity': 'error', 'Event Source': ' pod:0454503f... volume:pvc-0d81053d...'}, {'node': 'ip-10-13-112-170.pwx.dev.purestorage.com', 'start': '2022-09-05 08:11:53', 'finish': '2022-09-05 08:11:54', 'eventName': 'Mount Setup', 'eventSeverity': 'error', 'Event Source': ' pod:0454503f... volume:pvc-0d81053d...'}, {'node': 'ip-10-13-112-170.pwx.dev.purestorage.com', 'start': '2022-09-05 08:11:54', 'finish': '2022-09-05 08:11:55', 'eventName': 'Mount Setup', 'eventSeverity': 'error', 'Event Source': ' pod:0454503f... volume:pvc-0d81053d...'}, {'node': 'ip-10-13-112-170.pwx.dev.purestorage.com', 'start': '2022-09-05 08:11:56', 'finish': '2022-09-05 08:11:57', 'eventName': 'Mount Setup', 'eventSeverity': 'error', 'Event Source': ' pod:0454503f... volume:pvc-0d81053d...'}, {'node': 'ip-10-13-112-170.pwx.dev.purestorage.com', 'start': '2022-09-05 08:11:59', 'finish': '2022-09-05 08:12:00', 'eventName': 'Mount Setup', 'eventSeverity': 'error', 'Event Source': ' pod:0454503f... volume:pvc-0d81053d...'}, {'node': 'ip-10-13-112-170.pwx.dev.purestorage.com', 'start': '2022-09-05 08:11:29', 'finish': '2022-09-05 08:11:30', 'eventName': 'Mount Setup', 'eventSeverity': 'error', 'Event Source': ' pod:0454503f... volume:pvc-9c1df276...'}, {'node': 'ip-10-13-112-170.pwx.dev.purestorage.com', 'start': '2022-09-05 08:11:29', 'finish': '2022-09-05 08:11:30', 'eventName': 'Mount Setup', 'eventSeverity': 'error', 'Event Source': ' pod:0454503f... volume:pvc-9c1df276...'}, {'node': 'ip-10-13-112-170.pwx.dev.purestorage.com', 'start': '2022-09-05 08:11:29', 'finish': '2022-09-05 08:11:30', 'eventName': 'Mount Setup', 'eventSeverity': 'error', 'Event Source': ' pod:0454503f... volume:pvc-9c1df276...'}, {'node': 'ip-10-13-112-170.pwx.dev.purestorage.com', 'start': '2022-09-05 08:11:30', 'finish': '2022-09-05 08:11:31', 'eventName': 'Mount Setup', 'eventSeverity': 'error', 'Event Source': ' pod:0454503f... volume:pvc-9c1df276...'}, {'node': 'ip-10-13-112-170.pwx.dev.purestorage.com', 'start': '2022-09-05 08:11:30', 'finish': '2022-09-05 08:11:31', 'eventName': 'Mount Setup', 'eventSeverity': 'error', 'Event Source': ' pod:0454503f... volume:pvc-9c1df276...'}, {'node': 'ip-10-13-112-170.pwx.dev.purestorage.com', 'start': '2022-09-05 08:11:30', 'finish': '2022-09-05 08:11:31', 'eventName': 'Mount Setup', 'eventSeverity': 'error', 'Event Source': ' pod:0454503f... volume:pvc-9c1df276...'}, {'node': 'ip-10-13-112-170.pwx.dev.purestorage.com', 'start': '2022-09-05 08:11:31', 'finish': '2022-09-05 08:11:32', 'eventName': 'Mount Setup', 'eventSeverity': 'error', 'Event Source': ' pod:0454503f... volume:pvc-9c1df276...'}, {'node': 'ip-10-13-112-170.pwx.dev.purestorage.com', 'start': '2022-09-05 08:12:17', 'finish': '2022-09-05 08:12:18', 'eventName': 'Mount Setup', 'eventSeverity': 'error', 'Event Source': ' pod:0454503f... volume:pvc-9c1df276...'}]\n"
     ]
    }
   ],
   "source": [
    "# Create an event list to be used as dataframe\n",
    "eventList = []\n",
    "\n",
    "totalNodes = set()\n",
    "for events in data:\n",
    "    e = Events()        \n",
    "    e.start=events['start']\n",
    "    e.finish=events['finish']\n",
    "    e.eventName=events['eventName']\n",
    "    e.eventSeverity=events['eventSeverity']\n",
    "    \n",
    "    objects = events['objects']\n",
    "    #objectList = []\n",
    "    objectString = \"\"\n",
    "    for obj in objects:\n",
    "        # Update node type to separate graphs\n",
    "        if obj['objectType'] == \"node\":\n",
    "            e.node = obj['objectFullName']\n",
    "            totalNodes.add(e.node )\n",
    "        else:\n",
    "            #objectList.append(obj['objectType'] + \":\" + obj['objectName'])\n",
    "            objectString +=  \" \" + obj['objectType'] + \":\" + obj['objectName']\n",
    "    e.eventObject =  objectString\n",
    "    eventList.append(e.to_dict())\n",
    "\n",
    "print(eventList)"
   ]
  },
  {
   "cell_type": "code",
   "execution_count": null,
   "id": "ee18f17e-22fb-4464-b400-9dc18f60033b",
   "metadata": {},
   "outputs": [],
   "source": []
  },
  {
   "cell_type": "code",
   "execution_count": 264,
   "id": "c2c0caff-aa1e-4525-a9de-5e00907293a7",
   "metadata": {},
   "outputs": [
    {
     "data": {
      "text/html": [
       "<div>\n",
       "<style scoped>\n",
       "    .dataframe tbody tr th:only-of-type {\n",
       "        vertical-align: middle;\n",
       "    }\n",
       "\n",
       "    .dataframe tbody tr th {\n",
       "        vertical-align: top;\n",
       "    }\n",
       "\n",
       "    .dataframe thead th {\n",
       "        text-align: right;\n",
       "    }\n",
       "</style>\n",
       "<table border=\"1\" class=\"dataframe\">\n",
       "  <thead>\n",
       "    <tr style=\"text-align: right;\">\n",
       "      <th></th>\n",
       "      <th>node</th>\n",
       "      <th>start</th>\n",
       "      <th>finish</th>\n",
       "      <th>eventName</th>\n",
       "      <th>eventSeverity</th>\n",
       "      <th>Event Source</th>\n",
       "    </tr>\n",
       "  </thead>\n",
       "  <tbody>\n",
       "    <tr>\n",
       "      <th>0</th>\n",
       "      <td>ip-10-13-112-170.pwx.dev.purestorage.com</td>\n",
       "      <td>2022-09-05 07:04:56</td>\n",
       "      <td>2022-09-05 07:04:57</td>\n",
       "      <td>PX Down</td>\n",
       "      <td>error</td>\n",
       "      <td>Portworx:Portworx</td>\n",
       "    </tr>\n",
       "    <tr>\n",
       "      <th>1</th>\n",
       "      <td>ip-10-13-112-170.pwx.dev.purestorage.com</td>\n",
       "      <td>2022-09-05 07:53:08</td>\n",
       "      <td>2022-09-05 07:56:41</td>\n",
       "      <td>PX Down</td>\n",
       "      <td>error</td>\n",
       "      <td>Portworx:Portworx</td>\n",
       "    </tr>\n",
       "    <tr>\n",
       "      <th>2</th>\n",
       "      <td>ip-10-13-112-170.pwx.dev.purestorage.com</td>\n",
       "      <td>2022-09-05 08:09:38</td>\n",
       "      <td>2022-09-05 08:11:25</td>\n",
       "      <td>PX Down</td>\n",
       "      <td>error</td>\n",
       "      <td>Portworx:Portworx</td>\n",
       "    </tr>\n",
       "    <tr>\n",
       "      <th>3</th>\n",
       "      <td>ip-10-13-112-170.pwx.dev.purestorage.com</td>\n",
       "      <td>2022-09-05 08:11:27</td>\n",
       "      <td>2022-09-05 08:11:28</td>\n",
       "      <td>Mount Setup</td>\n",
       "      <td>error</td>\n",
       "      <td>pod:0454503f... volume:pvc-0d81053d...</td>\n",
       "    </tr>\n",
       "    <tr>\n",
       "      <th>4</th>\n",
       "      <td>ip-10-13-112-170.pwx.dev.purestorage.com</td>\n",
       "      <td>2022-09-05 08:11:31</td>\n",
       "      <td>2022-09-05 08:11:32</td>\n",
       "      <td>Mount Setup</td>\n",
       "      <td>error</td>\n",
       "      <td>pod:0454503f... volume:pvc-0d81053d...</td>\n",
       "    </tr>\n",
       "    <tr>\n",
       "      <th>5</th>\n",
       "      <td>ip-10-13-112-170.pwx.dev.purestorage.com</td>\n",
       "      <td>2022-09-05 08:11:32</td>\n",
       "      <td>2022-09-05 08:11:33</td>\n",
       "      <td>Mount Setup</td>\n",
       "      <td>error</td>\n",
       "      <td>pod:0454503f... volume:pvc-0d81053d...</td>\n",
       "    </tr>\n",
       "    <tr>\n",
       "      <th>6</th>\n",
       "      <td>ip-10-13-112-170.pwx.dev.purestorage.com</td>\n",
       "      <td>2022-09-05 08:11:40</td>\n",
       "      <td>2022-09-05 08:11:41</td>\n",
       "      <td>Mount Setup</td>\n",
       "      <td>error</td>\n",
       "      <td>pod:0454503f... volume:pvc-0d81053d...</td>\n",
       "    </tr>\n",
       "    <tr>\n",
       "      <th>7</th>\n",
       "      <td>ip-10-13-112-170.pwx.dev.purestorage.com</td>\n",
       "      <td>2022-09-05 08:11:43</td>\n",
       "      <td>2022-09-05 08:11:44</td>\n",
       "      <td>Mount Setup</td>\n",
       "      <td>error</td>\n",
       "      <td>pod:0454503f... volume:pvc-0d81053d...</td>\n",
       "    </tr>\n",
       "    <tr>\n",
       "      <th>8</th>\n",
       "      <td>ip-10-13-112-170.pwx.dev.purestorage.com</td>\n",
       "      <td>2022-09-05 08:11:51</td>\n",
       "      <td>2022-09-05 08:11:52</td>\n",
       "      <td>Mount Setup</td>\n",
       "      <td>error</td>\n",
       "      <td>pod:0454503f... volume:pvc-0d81053d...</td>\n",
       "    </tr>\n",
       "    <tr>\n",
       "      <th>9</th>\n",
       "      <td>ip-10-13-112-170.pwx.dev.purestorage.com</td>\n",
       "      <td>2022-09-05 08:11:53</td>\n",
       "      <td>2022-09-05 08:11:54</td>\n",
       "      <td>Mount Setup</td>\n",
       "      <td>error</td>\n",
       "      <td>pod:0454503f... volume:pvc-0d81053d...</td>\n",
       "    </tr>\n",
       "    <tr>\n",
       "      <th>10</th>\n",
       "      <td>ip-10-13-112-170.pwx.dev.purestorage.com</td>\n",
       "      <td>2022-09-05 08:11:54</td>\n",
       "      <td>2022-09-05 08:11:55</td>\n",
       "      <td>Mount Setup</td>\n",
       "      <td>error</td>\n",
       "      <td>pod:0454503f... volume:pvc-0d81053d...</td>\n",
       "    </tr>\n",
       "    <tr>\n",
       "      <th>11</th>\n",
       "      <td>ip-10-13-112-170.pwx.dev.purestorage.com</td>\n",
       "      <td>2022-09-05 08:11:56</td>\n",
       "      <td>2022-09-05 08:11:57</td>\n",
       "      <td>Mount Setup</td>\n",
       "      <td>error</td>\n",
       "      <td>pod:0454503f... volume:pvc-0d81053d...</td>\n",
       "    </tr>\n",
       "    <tr>\n",
       "      <th>12</th>\n",
       "      <td>ip-10-13-112-170.pwx.dev.purestorage.com</td>\n",
       "      <td>2022-09-05 08:11:59</td>\n",
       "      <td>2022-09-05 08:12:00</td>\n",
       "      <td>Mount Setup</td>\n",
       "      <td>error</td>\n",
       "      <td>pod:0454503f... volume:pvc-0d81053d...</td>\n",
       "    </tr>\n",
       "    <tr>\n",
       "      <th>13</th>\n",
       "      <td>ip-10-13-112-170.pwx.dev.purestorage.com</td>\n",
       "      <td>2022-09-05 08:11:29</td>\n",
       "      <td>2022-09-05 08:11:30</td>\n",
       "      <td>Mount Setup</td>\n",
       "      <td>error</td>\n",
       "      <td>pod:0454503f... volume:pvc-9c1df276...</td>\n",
       "    </tr>\n",
       "    <tr>\n",
       "      <th>14</th>\n",
       "      <td>ip-10-13-112-170.pwx.dev.purestorage.com</td>\n",
       "      <td>2022-09-05 08:11:29</td>\n",
       "      <td>2022-09-05 08:11:30</td>\n",
       "      <td>Mount Setup</td>\n",
       "      <td>error</td>\n",
       "      <td>pod:0454503f... volume:pvc-9c1df276...</td>\n",
       "    </tr>\n",
       "    <tr>\n",
       "      <th>15</th>\n",
       "      <td>ip-10-13-112-170.pwx.dev.purestorage.com</td>\n",
       "      <td>2022-09-05 08:11:29</td>\n",
       "      <td>2022-09-05 08:11:30</td>\n",
       "      <td>Mount Setup</td>\n",
       "      <td>error</td>\n",
       "      <td>pod:0454503f... volume:pvc-9c1df276...</td>\n",
       "    </tr>\n",
       "    <tr>\n",
       "      <th>16</th>\n",
       "      <td>ip-10-13-112-170.pwx.dev.purestorage.com</td>\n",
       "      <td>2022-09-05 08:11:30</td>\n",
       "      <td>2022-09-05 08:11:31</td>\n",
       "      <td>Mount Setup</td>\n",
       "      <td>error</td>\n",
       "      <td>pod:0454503f... volume:pvc-9c1df276...</td>\n",
       "    </tr>\n",
       "    <tr>\n",
       "      <th>17</th>\n",
       "      <td>ip-10-13-112-170.pwx.dev.purestorage.com</td>\n",
       "      <td>2022-09-05 08:11:30</td>\n",
       "      <td>2022-09-05 08:11:31</td>\n",
       "      <td>Mount Setup</td>\n",
       "      <td>error</td>\n",
       "      <td>pod:0454503f... volume:pvc-9c1df276...</td>\n",
       "    </tr>\n",
       "    <tr>\n",
       "      <th>18</th>\n",
       "      <td>ip-10-13-112-170.pwx.dev.purestorage.com</td>\n",
       "      <td>2022-09-05 08:11:30</td>\n",
       "      <td>2022-09-05 08:11:31</td>\n",
       "      <td>Mount Setup</td>\n",
       "      <td>error</td>\n",
       "      <td>pod:0454503f... volume:pvc-9c1df276...</td>\n",
       "    </tr>\n",
       "    <tr>\n",
       "      <th>19</th>\n",
       "      <td>ip-10-13-112-170.pwx.dev.purestorage.com</td>\n",
       "      <td>2022-09-05 08:11:31</td>\n",
       "      <td>2022-09-05 08:11:32</td>\n",
       "      <td>Mount Setup</td>\n",
       "      <td>error</td>\n",
       "      <td>pod:0454503f... volume:pvc-9c1df276...</td>\n",
       "    </tr>\n",
       "    <tr>\n",
       "      <th>20</th>\n",
       "      <td>ip-10-13-112-170.pwx.dev.purestorage.com</td>\n",
       "      <td>2022-09-05 08:12:17</td>\n",
       "      <td>2022-09-05 08:12:18</td>\n",
       "      <td>Mount Setup</td>\n",
       "      <td>error</td>\n",
       "      <td>pod:0454503f... volume:pvc-9c1df276...</td>\n",
       "    </tr>\n",
       "  </tbody>\n",
       "</table>\n",
       "</div>"
      ],
      "text/plain": [
       "                                        node                start  \\\n",
       "0   ip-10-13-112-170.pwx.dev.purestorage.com  2022-09-05 07:04:56   \n",
       "1   ip-10-13-112-170.pwx.dev.purestorage.com  2022-09-05 07:53:08   \n",
       "2   ip-10-13-112-170.pwx.dev.purestorage.com  2022-09-05 08:09:38   \n",
       "3   ip-10-13-112-170.pwx.dev.purestorage.com  2022-09-05 08:11:27   \n",
       "4   ip-10-13-112-170.pwx.dev.purestorage.com  2022-09-05 08:11:31   \n",
       "5   ip-10-13-112-170.pwx.dev.purestorage.com  2022-09-05 08:11:32   \n",
       "6   ip-10-13-112-170.pwx.dev.purestorage.com  2022-09-05 08:11:40   \n",
       "7   ip-10-13-112-170.pwx.dev.purestorage.com  2022-09-05 08:11:43   \n",
       "8   ip-10-13-112-170.pwx.dev.purestorage.com  2022-09-05 08:11:51   \n",
       "9   ip-10-13-112-170.pwx.dev.purestorage.com  2022-09-05 08:11:53   \n",
       "10  ip-10-13-112-170.pwx.dev.purestorage.com  2022-09-05 08:11:54   \n",
       "11  ip-10-13-112-170.pwx.dev.purestorage.com  2022-09-05 08:11:56   \n",
       "12  ip-10-13-112-170.pwx.dev.purestorage.com  2022-09-05 08:11:59   \n",
       "13  ip-10-13-112-170.pwx.dev.purestorage.com  2022-09-05 08:11:29   \n",
       "14  ip-10-13-112-170.pwx.dev.purestorage.com  2022-09-05 08:11:29   \n",
       "15  ip-10-13-112-170.pwx.dev.purestorage.com  2022-09-05 08:11:29   \n",
       "16  ip-10-13-112-170.pwx.dev.purestorage.com  2022-09-05 08:11:30   \n",
       "17  ip-10-13-112-170.pwx.dev.purestorage.com  2022-09-05 08:11:30   \n",
       "18  ip-10-13-112-170.pwx.dev.purestorage.com  2022-09-05 08:11:30   \n",
       "19  ip-10-13-112-170.pwx.dev.purestorage.com  2022-09-05 08:11:31   \n",
       "20  ip-10-13-112-170.pwx.dev.purestorage.com  2022-09-05 08:12:17   \n",
       "\n",
       "                 finish    eventName eventSeverity  \\\n",
       "0   2022-09-05 07:04:57      PX Down         error   \n",
       "1   2022-09-05 07:56:41      PX Down         error   \n",
       "2   2022-09-05 08:11:25      PX Down         error   \n",
       "3   2022-09-05 08:11:28  Mount Setup         error   \n",
       "4   2022-09-05 08:11:32  Mount Setup         error   \n",
       "5   2022-09-05 08:11:33  Mount Setup         error   \n",
       "6   2022-09-05 08:11:41  Mount Setup         error   \n",
       "7   2022-09-05 08:11:44  Mount Setup         error   \n",
       "8   2022-09-05 08:11:52  Mount Setup         error   \n",
       "9   2022-09-05 08:11:54  Mount Setup         error   \n",
       "10  2022-09-05 08:11:55  Mount Setup         error   \n",
       "11  2022-09-05 08:11:57  Mount Setup         error   \n",
       "12  2022-09-05 08:12:00  Mount Setup         error   \n",
       "13  2022-09-05 08:11:30  Mount Setup         error   \n",
       "14  2022-09-05 08:11:30  Mount Setup         error   \n",
       "15  2022-09-05 08:11:30  Mount Setup         error   \n",
       "16  2022-09-05 08:11:31  Mount Setup         error   \n",
       "17  2022-09-05 08:11:31  Mount Setup         error   \n",
       "18  2022-09-05 08:11:31  Mount Setup         error   \n",
       "19  2022-09-05 08:11:32  Mount Setup         error   \n",
       "20  2022-09-05 08:12:18  Mount Setup         error   \n",
       "\n",
       "                               Event Source  \n",
       "0                         Portworx:Portworx  \n",
       "1                         Portworx:Portworx  \n",
       "2                         Portworx:Portworx  \n",
       "3    pod:0454503f... volume:pvc-0d81053d...  \n",
       "4    pod:0454503f... volume:pvc-0d81053d...  \n",
       "5    pod:0454503f... volume:pvc-0d81053d...  \n",
       "6    pod:0454503f... volume:pvc-0d81053d...  \n",
       "7    pod:0454503f... volume:pvc-0d81053d...  \n",
       "8    pod:0454503f... volume:pvc-0d81053d...  \n",
       "9    pod:0454503f... volume:pvc-0d81053d...  \n",
       "10   pod:0454503f... volume:pvc-0d81053d...  \n",
       "11   pod:0454503f... volume:pvc-0d81053d...  \n",
       "12   pod:0454503f... volume:pvc-0d81053d...  \n",
       "13   pod:0454503f... volume:pvc-9c1df276...  \n",
       "14   pod:0454503f... volume:pvc-9c1df276...  \n",
       "15   pod:0454503f... volume:pvc-9c1df276...  \n",
       "16   pod:0454503f... volume:pvc-9c1df276...  \n",
       "17   pod:0454503f... volume:pvc-9c1df276...  \n",
       "18   pod:0454503f... volume:pvc-9c1df276...  \n",
       "19   pod:0454503f... volume:pvc-9c1df276...  \n",
       "20   pod:0454503f... volume:pvc-9c1df276...  "
      ]
     },
     "execution_count": 264,
     "metadata": {},
     "output_type": "execute_result"
    }
   ],
   "source": [
    "import pandas as pd\n",
    "import plotly.graph_objs as go\n",
    "df = pd.DataFrame(eventList)\n",
    "df.head(100)"
   ]
  },
  {
   "cell_type": "code",
   "execution_count": null,
   "id": "af4060e3-61a0-4f7a-9c0d-ccdc1a3a7bfe",
   "metadata": {},
   "outputs": [],
   "source": []
  },
  {
   "cell_type": "code",
   "execution_count": 274,
   "id": "cd5f2b89-ce6e-47c5-acd8-1ee1eb0836cd",
   "metadata": {},
   "outputs": [
    {
     "data": {
      "application/vnd.plotly.v1+json": {
       "config": {
        "plotlyServerURL": "https://plot.ly"
       },
       "data": [
        {
         "alignmentgroup": "True",
         "base": [
          "2022-09-05 07:04:56",
          "2022-09-05 07:53:08",
          "2022-09-05 08:09:38",
          "2022-09-05 08:11:27",
          "2022-09-05 08:11:31",
          "2022-09-05 08:11:32",
          "2022-09-05 08:11:40",
          "2022-09-05 08:11:43",
          "2022-09-05 08:11:51",
          "2022-09-05 08:11:53",
          "2022-09-05 08:11:54",
          "2022-09-05 08:11:56",
          "2022-09-05 08:11:59",
          "2022-09-05 08:11:29",
          "2022-09-05 08:11:29",
          "2022-09-05 08:11:29",
          "2022-09-05 08:11:30",
          "2022-09-05 08:11:30",
          "2022-09-05 08:11:30",
          "2022-09-05 08:11:31",
          "2022-09-05 08:12:17"
         ],
         "hovertemplate": "EventSeverity:",
         "legendgroup": "error",
         "marker": {
          "color": "#636efa"
         },
         "name": "error",
         "offsetgroup": "error",
         "orientation": "h",
         "showlegend": true,
         "text": [
          "PX Down",
          "PX Down",
          "PX Down",
          "Mount Setup",
          "Mount Setup",
          "Mount Setup",
          "Mount Setup",
          "Mount Setup",
          "Mount Setup",
          "Mount Setup",
          "Mount Setup",
          "Mount Setup",
          "Mount Setup",
          "Mount Setup",
          "Mount Setup",
          "Mount Setup",
          "Mount Setup",
          "Mount Setup",
          "Mount Setup",
          "Mount Setup",
          "Mount Setup"
         ],
         "textposition": "inside",
         "type": "bar",
         "x": [
          1000,
          213000,
          107000,
          1000,
          1000,
          1000,
          1000,
          1000,
          1000,
          1000,
          1000,
          1000,
          1000,
          1000,
          1000,
          1000,
          1000,
          1000,
          1000,
          1000,
          1000
         ],
         "xaxis": "x",
         "y": [
          " Portworx:Portworx",
          " Portworx:Portworx",
          " Portworx:Portworx",
          " pod:0454503f... volume:pvc-0d81053d...",
          " pod:0454503f... volume:pvc-0d81053d...",
          " pod:0454503f... volume:pvc-0d81053d...",
          " pod:0454503f... volume:pvc-0d81053d...",
          " pod:0454503f... volume:pvc-0d81053d...",
          " pod:0454503f... volume:pvc-0d81053d...",
          " pod:0454503f... volume:pvc-0d81053d...",
          " pod:0454503f... volume:pvc-0d81053d...",
          " pod:0454503f... volume:pvc-0d81053d...",
          " pod:0454503f... volume:pvc-0d81053d...",
          " pod:0454503f... volume:pvc-9c1df276...",
          " pod:0454503f... volume:pvc-9c1df276...",
          " pod:0454503f... volume:pvc-9c1df276...",
          " pod:0454503f... volume:pvc-9c1df276...",
          " pod:0454503f... volume:pvc-9c1df276...",
          " pod:0454503f... volume:pvc-9c1df276...",
          " pod:0454503f... volume:pvc-9c1df276...",
          " pod:0454503f... volume:pvc-9c1df276..."
         ],
         "yaxis": "y"
        }
       ],
       "layout": {
        "autosize": true,
        "barmode": "overlay",
        "legend": {
         "title": {
          "text": "eventSeverity"
         },
         "tracegroupgap": 0
        },
        "margin": {
         "t": 60
        },
        "template": {
         "data": {
          "bar": [
           {
            "error_x": {
             "color": "#2a3f5f"
            },
            "error_y": {
             "color": "#2a3f5f"
            },
            "marker": {
             "line": {
              "color": "#E5ECF6",
              "width": 0.5
             },
             "pattern": {
              "fillmode": "overlay",
              "size": 10,
              "solidity": 0.2
             }
            },
            "type": "bar"
           }
          ],
          "barpolar": [
           {
            "marker": {
             "line": {
              "color": "#E5ECF6",
              "width": 0.5
             },
             "pattern": {
              "fillmode": "overlay",
              "size": 10,
              "solidity": 0.2
             }
            },
            "type": "barpolar"
           }
          ],
          "carpet": [
           {
            "aaxis": {
             "endlinecolor": "#2a3f5f",
             "gridcolor": "white",
             "linecolor": "white",
             "minorgridcolor": "white",
             "startlinecolor": "#2a3f5f"
            },
            "baxis": {
             "endlinecolor": "#2a3f5f",
             "gridcolor": "white",
             "linecolor": "white",
             "minorgridcolor": "white",
             "startlinecolor": "#2a3f5f"
            },
            "type": "carpet"
           }
          ],
          "choropleth": [
           {
            "colorbar": {
             "outlinewidth": 0,
             "ticks": ""
            },
            "type": "choropleth"
           }
          ],
          "contour": [
           {
            "colorbar": {
             "outlinewidth": 0,
             "ticks": ""
            },
            "colorscale": [
             [
              0,
              "#0d0887"
             ],
             [
              0.1111111111111111,
              "#46039f"
             ],
             [
              0.2222222222222222,
              "#7201a8"
             ],
             [
              0.3333333333333333,
              "#9c179e"
             ],
             [
              0.4444444444444444,
              "#bd3786"
             ],
             [
              0.5555555555555556,
              "#d8576b"
             ],
             [
              0.6666666666666666,
              "#ed7953"
             ],
             [
              0.7777777777777778,
              "#fb9f3a"
             ],
             [
              0.8888888888888888,
              "#fdca26"
             ],
             [
              1,
              "#f0f921"
             ]
            ],
            "type": "contour"
           }
          ],
          "contourcarpet": [
           {
            "colorbar": {
             "outlinewidth": 0,
             "ticks": ""
            },
            "type": "contourcarpet"
           }
          ],
          "heatmap": [
           {
            "colorbar": {
             "outlinewidth": 0,
             "ticks": ""
            },
            "colorscale": [
             [
              0,
              "#0d0887"
             ],
             [
              0.1111111111111111,
              "#46039f"
             ],
             [
              0.2222222222222222,
              "#7201a8"
             ],
             [
              0.3333333333333333,
              "#9c179e"
             ],
             [
              0.4444444444444444,
              "#bd3786"
             ],
             [
              0.5555555555555556,
              "#d8576b"
             ],
             [
              0.6666666666666666,
              "#ed7953"
             ],
             [
              0.7777777777777778,
              "#fb9f3a"
             ],
             [
              0.8888888888888888,
              "#fdca26"
             ],
             [
              1,
              "#f0f921"
             ]
            ],
            "type": "heatmap"
           }
          ],
          "heatmapgl": [
           {
            "colorbar": {
             "outlinewidth": 0,
             "ticks": ""
            },
            "colorscale": [
             [
              0,
              "#0d0887"
             ],
             [
              0.1111111111111111,
              "#46039f"
             ],
             [
              0.2222222222222222,
              "#7201a8"
             ],
             [
              0.3333333333333333,
              "#9c179e"
             ],
             [
              0.4444444444444444,
              "#bd3786"
             ],
             [
              0.5555555555555556,
              "#d8576b"
             ],
             [
              0.6666666666666666,
              "#ed7953"
             ],
             [
              0.7777777777777778,
              "#fb9f3a"
             ],
             [
              0.8888888888888888,
              "#fdca26"
             ],
             [
              1,
              "#f0f921"
             ]
            ],
            "type": "heatmapgl"
           }
          ],
          "histogram": [
           {
            "marker": {
             "pattern": {
              "fillmode": "overlay",
              "size": 10,
              "solidity": 0.2
             }
            },
            "type": "histogram"
           }
          ],
          "histogram2d": [
           {
            "colorbar": {
             "outlinewidth": 0,
             "ticks": ""
            },
            "colorscale": [
             [
              0,
              "#0d0887"
             ],
             [
              0.1111111111111111,
              "#46039f"
             ],
             [
              0.2222222222222222,
              "#7201a8"
             ],
             [
              0.3333333333333333,
              "#9c179e"
             ],
             [
              0.4444444444444444,
              "#bd3786"
             ],
             [
              0.5555555555555556,
              "#d8576b"
             ],
             [
              0.6666666666666666,
              "#ed7953"
             ],
             [
              0.7777777777777778,
              "#fb9f3a"
             ],
             [
              0.8888888888888888,
              "#fdca26"
             ],
             [
              1,
              "#f0f921"
             ]
            ],
            "type": "histogram2d"
           }
          ],
          "histogram2dcontour": [
           {
            "colorbar": {
             "outlinewidth": 0,
             "ticks": ""
            },
            "colorscale": [
             [
              0,
              "#0d0887"
             ],
             [
              0.1111111111111111,
              "#46039f"
             ],
             [
              0.2222222222222222,
              "#7201a8"
             ],
             [
              0.3333333333333333,
              "#9c179e"
             ],
             [
              0.4444444444444444,
              "#bd3786"
             ],
             [
              0.5555555555555556,
              "#d8576b"
             ],
             [
              0.6666666666666666,
              "#ed7953"
             ],
             [
              0.7777777777777778,
              "#fb9f3a"
             ],
             [
              0.8888888888888888,
              "#fdca26"
             ],
             [
              1,
              "#f0f921"
             ]
            ],
            "type": "histogram2dcontour"
           }
          ],
          "mesh3d": [
           {
            "colorbar": {
             "outlinewidth": 0,
             "ticks": ""
            },
            "type": "mesh3d"
           }
          ],
          "parcoords": [
           {
            "line": {
             "colorbar": {
              "outlinewidth": 0,
              "ticks": ""
             }
            },
            "type": "parcoords"
           }
          ],
          "pie": [
           {
            "automargin": true,
            "type": "pie"
           }
          ],
          "scatter": [
           {
            "marker": {
             "colorbar": {
              "outlinewidth": 0,
              "ticks": ""
             }
            },
            "type": "scatter"
           }
          ],
          "scatter3d": [
           {
            "line": {
             "colorbar": {
              "outlinewidth": 0,
              "ticks": ""
             }
            },
            "marker": {
             "colorbar": {
              "outlinewidth": 0,
              "ticks": ""
             }
            },
            "type": "scatter3d"
           }
          ],
          "scattercarpet": [
           {
            "marker": {
             "colorbar": {
              "outlinewidth": 0,
              "ticks": ""
             }
            },
            "type": "scattercarpet"
           }
          ],
          "scattergeo": [
           {
            "marker": {
             "colorbar": {
              "outlinewidth": 0,
              "ticks": ""
             }
            },
            "type": "scattergeo"
           }
          ],
          "scattergl": [
           {
            "marker": {
             "colorbar": {
              "outlinewidth": 0,
              "ticks": ""
             }
            },
            "type": "scattergl"
           }
          ],
          "scattermapbox": [
           {
            "marker": {
             "colorbar": {
              "outlinewidth": 0,
              "ticks": ""
             }
            },
            "type": "scattermapbox"
           }
          ],
          "scatterpolar": [
           {
            "marker": {
             "colorbar": {
              "outlinewidth": 0,
              "ticks": ""
             }
            },
            "type": "scatterpolar"
           }
          ],
          "scatterpolargl": [
           {
            "marker": {
             "colorbar": {
              "outlinewidth": 0,
              "ticks": ""
             }
            },
            "type": "scatterpolargl"
           }
          ],
          "scatterternary": [
           {
            "marker": {
             "colorbar": {
              "outlinewidth": 0,
              "ticks": ""
             }
            },
            "type": "scatterternary"
           }
          ],
          "surface": [
           {
            "colorbar": {
             "outlinewidth": 0,
             "ticks": ""
            },
            "colorscale": [
             [
              0,
              "#0d0887"
             ],
             [
              0.1111111111111111,
              "#46039f"
             ],
             [
              0.2222222222222222,
              "#7201a8"
             ],
             [
              0.3333333333333333,
              "#9c179e"
             ],
             [
              0.4444444444444444,
              "#bd3786"
             ],
             [
              0.5555555555555556,
              "#d8576b"
             ],
             [
              0.6666666666666666,
              "#ed7953"
             ],
             [
              0.7777777777777778,
              "#fb9f3a"
             ],
             [
              0.8888888888888888,
              "#fdca26"
             ],
             [
              1,
              "#f0f921"
             ]
            ],
            "type": "surface"
           }
          ],
          "table": [
           {
            "cells": {
             "fill": {
              "color": "#EBF0F8"
             },
             "line": {
              "color": "white"
             }
            },
            "header": {
             "fill": {
              "color": "#C8D4E3"
             },
             "line": {
              "color": "white"
             }
            },
            "type": "table"
           }
          ]
         },
         "layout": {
          "annotationdefaults": {
           "arrowcolor": "#2a3f5f",
           "arrowhead": 0,
           "arrowwidth": 1
          },
          "autotypenumbers": "strict",
          "coloraxis": {
           "colorbar": {
            "outlinewidth": 0,
            "ticks": ""
           }
          },
          "colorscale": {
           "diverging": [
            [
             0,
             "#8e0152"
            ],
            [
             0.1,
             "#c51b7d"
            ],
            [
             0.2,
             "#de77ae"
            ],
            [
             0.3,
             "#f1b6da"
            ],
            [
             0.4,
             "#fde0ef"
            ],
            [
             0.5,
             "#f7f7f7"
            ],
            [
             0.6,
             "#e6f5d0"
            ],
            [
             0.7,
             "#b8e186"
            ],
            [
             0.8,
             "#7fbc41"
            ],
            [
             0.9,
             "#4d9221"
            ],
            [
             1,
             "#276419"
            ]
           ],
           "sequential": [
            [
             0,
             "#0d0887"
            ],
            [
             0.1111111111111111,
             "#46039f"
            ],
            [
             0.2222222222222222,
             "#7201a8"
            ],
            [
             0.3333333333333333,
             "#9c179e"
            ],
            [
             0.4444444444444444,
             "#bd3786"
            ],
            [
             0.5555555555555556,
             "#d8576b"
            ],
            [
             0.6666666666666666,
             "#ed7953"
            ],
            [
             0.7777777777777778,
             "#fb9f3a"
            ],
            [
             0.8888888888888888,
             "#fdca26"
            ],
            [
             1,
             "#f0f921"
            ]
           ],
           "sequentialminus": [
            [
             0,
             "#0d0887"
            ],
            [
             0.1111111111111111,
             "#46039f"
            ],
            [
             0.2222222222222222,
             "#7201a8"
            ],
            [
             0.3333333333333333,
             "#9c179e"
            ],
            [
             0.4444444444444444,
             "#bd3786"
            ],
            [
             0.5555555555555556,
             "#d8576b"
            ],
            [
             0.6666666666666666,
             "#ed7953"
            ],
            [
             0.7777777777777778,
             "#fb9f3a"
            ],
            [
             0.8888888888888888,
             "#fdca26"
            ],
            [
             1,
             "#f0f921"
            ]
           ]
          },
          "colorway": [
           "#636efa",
           "#EF553B",
           "#00cc96",
           "#ab63fa",
           "#FFA15A",
           "#19d3f3",
           "#FF6692",
           "#B6E880",
           "#FF97FF",
           "#FECB52"
          ],
          "font": {
           "color": "#2a3f5f"
          },
          "geo": {
           "bgcolor": "white",
           "lakecolor": "white",
           "landcolor": "#E5ECF6",
           "showlakes": true,
           "showland": true,
           "subunitcolor": "white"
          },
          "hoverlabel": {
           "align": "left"
          },
          "hovermode": "closest",
          "mapbox": {
           "style": "light"
          },
          "paper_bgcolor": "white",
          "plot_bgcolor": "#E5ECF6",
          "polar": {
           "angularaxis": {
            "gridcolor": "white",
            "linecolor": "white",
            "ticks": ""
           },
           "bgcolor": "#E5ECF6",
           "radialaxis": {
            "gridcolor": "white",
            "linecolor": "white",
            "ticks": ""
           }
          },
          "scene": {
           "xaxis": {
            "backgroundcolor": "#E5ECF6",
            "gridcolor": "white",
            "gridwidth": 2,
            "linecolor": "white",
            "showbackground": true,
            "ticks": "",
            "zerolinecolor": "white"
           },
           "yaxis": {
            "backgroundcolor": "#E5ECF6",
            "gridcolor": "white",
            "gridwidth": 2,
            "linecolor": "white",
            "showbackground": true,
            "ticks": "",
            "zerolinecolor": "white"
           },
           "zaxis": {
            "backgroundcolor": "#E5ECF6",
            "gridcolor": "white",
            "gridwidth": 2,
            "linecolor": "white",
            "showbackground": true,
            "ticks": "",
            "zerolinecolor": "white"
           }
          },
          "shapedefaults": {
           "line": {
            "color": "#2a3f5f"
           }
          },
          "ternary": {
           "aaxis": {
            "gridcolor": "white",
            "linecolor": "white",
            "ticks": ""
           },
           "baxis": {
            "gridcolor": "white",
            "linecolor": "white",
            "ticks": ""
           },
           "bgcolor": "#E5ECF6",
           "caxis": {
            "gridcolor": "white",
            "linecolor": "white",
            "ticks": ""
           }
          },
          "title": {
           "x": 0.05
          },
          "xaxis": {
           "automargin": true,
           "gridcolor": "white",
           "linecolor": "white",
           "ticks": "",
           "title": {
            "standoff": 15
           },
           "zerolinecolor": "white",
           "zerolinewidth": 2
          },
          "yaxis": {
           "automargin": true,
           "gridcolor": "white",
           "linecolor": "white",
           "ticks": "",
           "title": {
            "standoff": 15
           },
           "zerolinecolor": "white",
           "zerolinewidth": 2
          }
         }
        },
        "title": {
         "font": {
          "size": 30
         },
         "text": "Cluster Node:ip-10-13-112-170.pwx.dev.purestorage.com"
        },
        "xaxis": {
         "anchor": "y",
         "autorange": false,
         "domain": [
          0,
          1
         ],
         "range": [
          "2022-09-05 08:11:21.5743",
          "2022-09-05 08:12:13.9446"
         ],
         "showgrid": true,
         "type": "date"
        },
        "yaxis": {
         "anchor": "x",
         "autorange": false,
         "domain": [
          0,
          1
         ],
         "range": [
          -0.1367049586776859,
          1.3495020285499628
         ],
         "title": {
          "text": "Event Source"
         },
         "type": "category"
        }
       }
      },
      "image/png": "[encoded data removed]",
      "text/html": [
       "<div>                            <div id=\"0291b069-523a-4f12-afd7-4f1a4aba1848\" class=\"plotly-graph-div\" style=\"height:525px; width:100%;\"></div>            <script type=\"text/javascript\">                require([\"plotly\"], function(Plotly) {                    window.PLOTLYENV=window.PLOTLYENV || {};                                    if (document.getElementById(\"0291b069-523a-4f12-afd7-4f1a4aba1848\")) {                    Plotly.newPlot(                        \"0291b069-523a-4f12-afd7-4f1a4aba1848\",                        [{\"alignmentgroup\":\"True\",\"base\":[\"2022-09-05 07:04:56\",\"2022-09-05 07:53:08\",\"2022-09-05 08:09:38\",\"2022-09-05 08:11:27\",\"2022-09-05 08:11:31\",\"2022-09-05 08:11:32\",\"2022-09-05 08:11:40\",\"2022-09-05 08:11:43\",\"2022-09-05 08:11:51\",\"2022-09-05 08:11:53\",\"2022-09-05 08:11:54\",\"2022-09-05 08:11:56\",\"2022-09-05 08:11:59\",\"2022-09-05 08:11:29\",\"2022-09-05 08:11:29\",\"2022-09-05 08:11:29\",\"2022-09-05 08:11:30\",\"2022-09-05 08:11:30\",\"2022-09-05 08:11:30\",\"2022-09-05 08:11:31\",\"2022-09-05 08:12:17\"],\"hovertemplate\":\"EventSeverity:\",\"legendgroup\":\"error\",\"marker\":{\"color\":\"#636efa\"},\"name\":\"error\",\"offsetgroup\":\"error\",\"orientation\":\"h\",\"showlegend\":true,\"text\":[\"PX Down\",\"PX Down\",\"PX Down\",\"Mount Setup\",\"Mount Setup\",\"Mount Setup\",\"Mount Setup\",\"Mount Setup\",\"Mount Setup\",\"Mount Setup\",\"Mount Setup\",\"Mount Setup\",\"Mount Setup\",\"Mount Setup\",\"Mount Setup\",\"Mount Setup\",\"Mount Setup\",\"Mount Setup\",\"Mount Setup\",\"Mount Setup\",\"Mount Setup\"],\"textposition\":\"inside\",\"x\":[1000.0,213000.0,107000.0,1000.0,1000.0,1000.0,1000.0,1000.0,1000.0,1000.0,1000.0,1000.0,1000.0,1000.0,1000.0,1000.0,1000.0,1000.0,1000.0,1000.0,1000.0],\"xaxis\":\"x\",\"y\":[\" Portworx:Portworx\",\" Portworx:Portworx\",\" Portworx:Portworx\",\" pod:0454503f... volume:pvc-0d81053d...\",\" pod:0454503f... volume:pvc-0d81053d...\",\" pod:0454503f... volume:pvc-0d81053d...\",\" pod:0454503f... volume:pvc-0d81053d...\",\" pod:0454503f... volume:pvc-0d81053d...\",\" pod:0454503f... volume:pvc-0d81053d...\",\" pod:0454503f... volume:pvc-0d81053d...\",\" pod:0454503f... volume:pvc-0d81053d...\",\" pod:0454503f... volume:pvc-0d81053d...\",\" pod:0454503f... volume:pvc-0d81053d...\",\" pod:0454503f... volume:pvc-9c1df276...\",\" pod:0454503f... volume:pvc-9c1df276...\",\" pod:0454503f... volume:pvc-9c1df276...\",\" pod:0454503f... volume:pvc-9c1df276...\",\" pod:0454503f... volume:pvc-9c1df276...\",\" pod:0454503f... volume:pvc-9c1df276...\",\" pod:0454503f... volume:pvc-9c1df276...\",\" pod:0454503f... volume:pvc-9c1df276...\"],\"yaxis\":\"y\",\"type\":\"bar\"}],                        {\"template\":{\"data\":{\"bar\":[{\"error_x\":{\"color\":\"#2a3f5f\"},\"error_y\":{\"color\":\"#2a3f5f\"},\"marker\":{\"line\":{\"color\":\"#E5ECF6\",\"width\":0.5},\"pattern\":{\"fillmode\":\"overlay\",\"size\":10,\"solidity\":0.2}},\"type\":\"bar\"}],\"barpolar\":[{\"marker\":{\"line\":{\"color\":\"#E5ECF6\",\"width\":0.5},\"pattern\":{\"fillmode\":\"overlay\",\"size\":10,\"solidity\":0.2}},\"type\":\"barpolar\"}],\"carpet\":[{\"aaxis\":{\"endlinecolor\":\"#2a3f5f\",\"gridcolor\":\"white\",\"linecolor\":\"white\",\"minorgridcolor\":\"white\",\"startlinecolor\":\"#2a3f5f\"},\"baxis\":{\"endlinecolor\":\"#2a3f5f\",\"gridcolor\":\"white\",\"linecolor\":\"white\",\"minorgridcolor\":\"white\",\"startlinecolor\":\"#2a3f5f\"},\"type\":\"carpet\"}],\"choropleth\":[{\"colorbar\":{\"outlinewidth\":0,\"ticks\":\"\"},\"type\":\"choropleth\"}],\"contour\":[{\"colorbar\":{\"outlinewidth\":0,\"ticks\":\"\"},\"colorscale\":[[0.0,\"#0d0887\"],[0.1111111111111111,\"#46039f\"],[0.2222222222222222,\"#7201a8\"],[0.3333333333333333,\"#9c179e\"],[0.4444444444444444,\"#bd3786\"],[0.5555555555555556,\"#d8576b\"],[0.6666666666666666,\"#ed7953\"],[0.7777777777777778,\"#fb9f3a\"],[0.8888888888888888,\"#fdca26\"],[1.0,\"#f0f921\"]],\"type\":\"contour\"}],\"contourcarpet\":[{\"colorbar\":{\"outlinewidth\":0,\"ticks\":\"\"},\"type\":\"contourcarpet\"}],\"heatmap\":[{\"colorbar\":{\"outlinewidth\":0,\"ticks\":\"\"},\"colorscale\":[[0.0,\"#0d0887\"],[0.1111111111111111,\"#46039f\"],[0.2222222222222222,\"#7201a8\"],[0.3333333333333333,\"#9c179e\"],[0.4444444444444444,\"#bd3786\"],[0.5555555555555556,\"#d8576b\"],[0.6666666666666666,\"#ed7953\"],[0.7777777777777778,\"#fb9f3a\"],[0.8888888888888888,\"#fdca26\"],[1.0,\"#f0f921\"]],\"type\":\"heatmap\"}],\"heatmapgl\":[{\"colorbar\":{\"outlinewidth\":0,\"ticks\":\"\"},\"colorscale\":[[0.0,\"#0d0887\"],[0.1111111111111111,\"#46039f\"],[0.2222222222222222,\"#7201a8\"],[0.3333333333333333,\"#9c179e\"],[0.4444444444444444,\"#bd3786\"],[0.5555555555555556,\"#d8576b\"],[0.6666666666666666,\"#ed7953\"],[0.7777777777777778,\"#fb9f3a\"],[0.8888888888888888,\"#fdca26\"],[1.0,\"#f0f921\"]],\"type\":\"heatmapgl\"}],\"histogram\":[{\"marker\":{\"pattern\":{\"fillmode\":\"overlay\",\"size\":10,\"solidity\":0.2}},\"type\":\"histogram\"}],\"histogram2d\":[{\"colorbar\":{\"outlinewidth\":0,\"ticks\":\"\"},\"colorscale\":[[0.0,\"#0d0887\"],[0.1111111111111111,\"#46039f\"],[0.2222222222222222,\"#7201a8\"],[0.3333333333333333,\"#9c179e\"],[0.4444444444444444,\"#bd3786\"],[0.5555555555555556,\"#d8576b\"],[0.6666666666666666,\"#ed7953\"],[0.7777777777777778,\"#fb9f3a\"],[0.8888888888888888,\"#fdca26\"],[1.0,\"#f0f921\"]],\"type\":\"histogram2d\"}],\"histogram2dcontour\":[{\"colorbar\":{\"outlinewidth\":0,\"ticks\":\"\"},\"colorscale\":[[0.0,\"#0d0887\"],[0.1111111111111111,\"#46039f\"],[0.2222222222222222,\"#7201a8\"],[0.3333333333333333,\"#9c179e\"],[0.4444444444444444,\"#bd3786\"],[0.5555555555555556,\"#d8576b\"],[0.6666666666666666,\"#ed7953\"],[0.7777777777777778,\"#fb9f3a\"],[0.8888888888888888,\"#fdca26\"],[1.0,\"#f0f921\"]],\"type\":\"histogram2dcontour\"}],\"mesh3d\":[{\"colorbar\":{\"outlinewidth\":0,\"ticks\":\"\"},\"type\":\"mesh3d\"}],\"parcoords\":[{\"line\":{\"colorbar\":{\"outlinewidth\":0,\"ticks\":\"\"}},\"type\":\"parcoords\"}],\"pie\":[{\"automargin\":true,\"type\":\"pie\"}],\"scatter\":[{\"marker\":{\"colorbar\":{\"outlinewidth\":0,\"ticks\":\"\"}},\"type\":\"scatter\"}],\"scatter3d\":[{\"line\":{\"colorbar\":{\"outlinewidth\":0,\"ticks\":\"\"}},\"marker\":{\"colorbar\":{\"outlinewidth\":0,\"ticks\":\"\"}},\"type\":\"scatter3d\"}],\"scattercarpet\":[{\"marker\":{\"colorbar\":{\"outlinewidth\":0,\"ticks\":\"\"}},\"type\":\"scattercarpet\"}],\"scattergeo\":[{\"marker\":{\"colorbar\":{\"outlinewidth\":0,\"ticks\":\"\"}},\"type\":\"scattergeo\"}],\"scattergl\":[{\"marker\":{\"colorbar\":{\"outlinewidth\":0,\"ticks\":\"\"}},\"type\":\"scattergl\"}],\"scattermapbox\":[{\"marker\":{\"colorbar\":{\"outlinewidth\":0,\"ticks\":\"\"}},\"type\":\"scattermapbox\"}],\"scatterpolar\":[{\"marker\":{\"colorbar\":{\"outlinewidth\":0,\"ticks\":\"\"}},\"type\":\"scatterpolar\"}],\"scatterpolargl\":[{\"marker\":{\"colorbar\":{\"outlinewidth\":0,\"ticks\":\"\"}},\"type\":\"scatterpolargl\"}],\"scatterternary\":[{\"marker\":{\"colorbar\":{\"outlinewidth\":0,\"ticks\":\"\"}},\"type\":\"scatterternary\"}],\"surface\":[{\"colorbar\":{\"outlinewidth\":0,\"ticks\":\"\"},\"colorscale\":[[0.0,\"#0d0887\"],[0.1111111111111111,\"#46039f\"],[0.2222222222222222,\"#7201a8\"],[0.3333333333333333,\"#9c179e\"],[0.4444444444444444,\"#bd3786\"],[0.5555555555555556,\"#d8576b\"],[0.6666666666666666,\"#ed7953\"],[0.7777777777777778,\"#fb9f3a\"],[0.8888888888888888,\"#fdca26\"],[1.0,\"#f0f921\"]],\"type\":\"surface\"}],\"table\":[{\"cells\":{\"fill\":{\"color\":\"#EBF0F8\"},\"line\":{\"color\":\"white\"}},\"header\":{\"fill\":{\"color\":\"#C8D4E3\"},\"line\":{\"color\":\"white\"}},\"type\":\"table\"}]},\"layout\":{\"annotationdefaults\":{\"arrowcolor\":\"#2a3f5f\",\"arrowhead\":0,\"arrowwidth\":1},\"autotypenumbers\":\"strict\",\"coloraxis\":{\"colorbar\":{\"outlinewidth\":0,\"ticks\":\"\"}},\"colorscale\":{\"diverging\":[[0,\"#8e0152\"],[0.1,\"#c51b7d\"],[0.2,\"#de77ae\"],[0.3,\"#f1b6da\"],[0.4,\"#fde0ef\"],[0.5,\"#f7f7f7\"],[0.6,\"#e6f5d0\"],[0.7,\"#b8e186\"],[0.8,\"#7fbc41\"],[0.9,\"#4d9221\"],[1,\"#276419\"]],\"sequential\":[[0.0,\"#0d0887\"],[0.1111111111111111,\"#46039f\"],[0.2222222222222222,\"#7201a8\"],[0.3333333333333333,\"#9c179e\"],[0.4444444444444444,\"#bd3786\"],[0.5555555555555556,\"#d8576b\"],[0.6666666666666666,\"#ed7953\"],[0.7777777777777778,\"#fb9f3a\"],[0.8888888888888888,\"#fdca26\"],[1.0,\"#f0f921\"]],\"sequentialminus\":[[0.0,\"#0d0887\"],[0.1111111111111111,\"#46039f\"],[0.2222222222222222,\"#7201a8\"],[0.3333333333333333,\"#9c179e\"],[0.4444444444444444,\"#bd3786\"],[0.5555555555555556,\"#d8576b\"],[0.6666666666666666,\"#ed7953\"],[0.7777777777777778,\"#fb9f3a\"],[0.8888888888888888,\"#fdca26\"],[1.0,\"#f0f921\"]]},\"colorway\":[\"#636efa\",\"#EF553B\",\"#00cc96\",\"#ab63fa\",\"#FFA15A\",\"#19d3f3\",\"#FF6692\",\"#B6E880\",\"#FF97FF\",\"#FECB52\"],\"font\":{\"color\":\"#2a3f5f\"},\"geo\":{\"bgcolor\":\"white\",\"lakecolor\":\"white\",\"landcolor\":\"#E5ECF6\",\"showlakes\":true,\"showland\":true,\"subunitcolor\":\"white\"},\"hoverlabel\":{\"align\":\"left\"},\"hovermode\":\"closest\",\"mapbox\":{\"style\":\"light\"},\"paper_bgcolor\":\"white\",\"plot_bgcolor\":\"#E5ECF6\",\"polar\":{\"angularaxis\":{\"gridcolor\":\"white\",\"linecolor\":\"white\",\"ticks\":\"\"},\"bgcolor\":\"#E5ECF6\",\"radialaxis\":{\"gridcolor\":\"white\",\"linecolor\":\"white\",\"ticks\":\"\"}},\"scene\":{\"xaxis\":{\"backgroundcolor\":\"#E5ECF6\",\"gridcolor\":\"white\",\"gridwidth\":2,\"linecolor\":\"white\",\"showbackground\":true,\"ticks\":\"\",\"zerolinecolor\":\"white\"},\"yaxis\":{\"backgroundcolor\":\"#E5ECF6\",\"gridcolor\":\"white\",\"gridwidth\":2,\"linecolor\":\"white\",\"showbackground\":true,\"ticks\":\"\",\"zerolinecolor\":\"white\"},\"zaxis\":{\"backgroundcolor\":\"#E5ECF6\",\"gridcolor\":\"white\",\"gridwidth\":2,\"linecolor\":\"white\",\"showbackground\":true,\"ticks\":\"\",\"zerolinecolor\":\"white\"}},\"shapedefaults\":{\"line\":{\"color\":\"#2a3f5f\"}},\"ternary\":{\"aaxis\":{\"gridcolor\":\"white\",\"linecolor\":\"white\",\"ticks\":\"\"},\"baxis\":{\"gridcolor\":\"white\",\"linecolor\":\"white\",\"ticks\":\"\"},\"bgcolor\":\"#E5ECF6\",\"caxis\":{\"gridcolor\":\"white\",\"linecolor\":\"white\",\"ticks\":\"\"}},\"title\":{\"x\":0.05},\"xaxis\":{\"automargin\":true,\"gridcolor\":\"white\",\"linecolor\":\"white\",\"ticks\":\"\",\"title\":{\"standoff\":15},\"zerolinecolor\":\"white\",\"zerolinewidth\":2},\"yaxis\":{\"automargin\":true,\"gridcolor\":\"white\",\"linecolor\":\"white\",\"ticks\":\"\",\"title\":{\"standoff\":15},\"zerolinecolor\":\"white\",\"zerolinewidth\":2}}},\"xaxis\":{\"anchor\":\"y\",\"domain\":[0.0,1.0],\"type\":\"date\",\"showgrid\":true},\"yaxis\":{\"anchor\":\"x\",\"domain\":[0.0,1.0],\"title\":{\"text\":\"Event Source\"}},\"legend\":{\"title\":{\"text\":\"eventSeverity\"},\"tracegroupgap\":0},\"margin\":{\"t\":60},\"barmode\":\"overlay\",\"title\":{\"font\":{\"size\":30},\"text\":\"Cluster Node:ip-10-13-112-170.pwx.dev.purestorage.com\"}},                        {\"responsive\": true}                    ).then(function(){\n",
       "                            \n",
       "var gd = document.getElementById('0291b069-523a-4f12-afd7-4f1a4aba1848');\n",
       "var x = new MutationObserver(function (mutations, observer) {{\n",
       "        var display = window.getComputedStyle(gd).display;\n",
       "        if (!display || display === 'none') {{\n",
       "            console.log([gd, 'removed!']);\n",
       "            Plotly.purge(gd);\n",
       "            observer.disconnect();\n",
       "        }}\n",
       "}});\n",
       "\n",
       "// Listen for the removal of the full notebook cells\n",
       "var notebookContainer = gd.closest('#notebook-container');\n",
       "if (notebookContainer) {{\n",
       "    x.observe(notebookContainer, {childList: true});\n",
       "}}\n",
       "\n",
       "// Listen for the clearing of the current output cell\n",
       "var outputEl = gd.closest('.output');\n",
       "if (outputEl) {{\n",
       "    x.observe(outputEl, {childList: true});\n",
       "}}\n",
       "\n",
       "                        })                };                });            </script>        </div>"
      ]
     },
     "metadata": {},
     "output_type": "display_data"
    }
   ],
   "source": [
    "for name, group in df.groupby('node'):\n",
    "    heading = \"Cluster Node:\" + name\n",
    "    group.head()\n",
    "    fig= px.timeline(group, x_start=\"start\", x_end=\"finish\", y=\"Event Source\", color=\"eventSeverity\", text=\"eventName\")\n",
    "    fig.update_layout(title_text=heading,\n",
    "                  title_font_size=30)\n",
    "    fig.update_xaxes(showgrid=True)\n",
    "\n",
    "    fig.update_traces(textposition='inside')\n",
    "    fig.update_traces(textposition='inside', hovertemplate = \"EventSeverity:\")\n",
    "\n",
    "    #fig.update_yaxes(autorange=\"reversed\") # otherwise tasks are listed from the bottom up\n",
    "\n",
    "    fig.show()\n"
   ]
  },
  {
   "cell_type": "code",
   "execution_count": null,
   "id": "324c6e49-f716-4472-a43d-7bcece1dd4ce",
   "metadata": {},
   "outputs": [],
   "source": [
    "fig.write_html(\"./file.html\")\n"
   ]
  },
  {
   "cell_type": "code",
   "execution_count": null,
   "id": "fd8fb32e-5f7d-409b-b5b7-d97fc0f260bf",
   "metadata": {},
   "outputs": [],
   "source": []
  },
  {
   "cell_type": "code",
   "execution_count": null,
   "id": "d2e37647-c7e7-4e0b-b6ac-0ae51a9cc3ac",
   "metadata": {},
   "outputs": [],
   "source": []
  },
  {
   "cell_type": "code",
   "execution_count": null,
   "id": "a7a051d9-3bdf-4c0a-b1ab-ac8105e87d61",
   "metadata": {},
   "outputs": [],
   "source": [
    "\n"
   ]
  },
  {
   "cell_type": "code",
   "execution_count": null,
   "id": "1f2a90e6-dc96-4d94-ad24-e2140f6ca82a",
   "metadata": {},
   "outputs": [],
   "source": []
  },
  {
   "cell_type": "code",
   "execution_count": null,
   "id": "1796a583-4f77-460a-9cdd-0ec08372c6be",
   "metadata": {},
   "outputs": [],
   "source": []
  },
  {
   "cell_type": "code",
   "execution_count": null,
   "id": "ecb53152-577c-4c1d-99f1-05b62789cff3",
   "metadata": {},
   "outputs": [],
   "source": []
  },
  {
   "cell_type": "code",
   "execution_count": null,
   "id": "5c3dbbe5-b90d-4d9e-9462-90e69dbb2c93",
   "metadata": {},
   "outputs": [],
   "source": [
    "f.close()"
   ]
  }
 ],
 "metadata": {
  "kernelspec": {
   "display_name": "Python 3 (ipykernel)",
   "language": "python",
   "name": "python3"
  },
  "language_info": {
   "codemirror_mode": {
    "name": "ipython",
    "version": 3
   },
   "file_extension": ".py",
   "mimetype": "text/x-python",
   "name": "python",
   "nbconvert_exporter": "python",
   "pygments_lexer": "ipython3",
   "version": "3.9.12"
  }
 },
 "nbformat": 4,
 "nbformat_minor": 5
}
